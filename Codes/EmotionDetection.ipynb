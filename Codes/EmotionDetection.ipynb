{
 "metadata": {
  "language_info": {
   "codemirror_mode": {
    "name": "ipython",
    "version": 3
   },
   "file_extension": ".py",
   "mimetype": "text/x-python",
   "name": "python",
   "nbconvert_exporter": "python",
   "pygments_lexer": "ipython3",
   "version": "3.8.6-final"
  },
  "orig_nbformat": 2,
  "kernelspec": {
   "name": "python3",
   "display_name": "Python 3.8.6 64-bit ('env')",
   "metadata": {
    "interpreter": {
     "hash": "101fecd5b397154e4878e99d666145f7c25e73785be278046b2b4d417911e183"
    }
   }
  }
 },
 "nbformat": 4,
 "nbformat_minor": 2,
 "cells": [
  {
   "cell_type": "code",
   "execution_count": 165,
   "metadata": {},
   "outputs": [],
   "source": [
    "import numpy as np \n",
    "from pandas import read_csv\n",
    "from skimage.feature import hog, canny\n",
    "from skimage import filters\n",
    "from skimage import io\n",
    "from sklearn.model_selection import StratifiedKFold\n",
    "from sklearn.model_selection import cross_validate\n",
    "from sklearn.tree import DecisionTreeClassifier\n",
    "from sklearn.ensemble import RandomForestClassifier\n",
    "from sklearn.linear_model import LogisticRegression\n",
    "from sklearn.ensemble import AdaBoostClassifier\n",
    "from sklearn.svm import SVC\n",
    "from sklearn.ensemble import ExtraTreesClassifier\n",
    "from sklearn.ensemble import StackingClassifier\n",
    "from sklearn.neighbors import KNeighborsClassifier\n",
    "from sklearn.ensemble import BaggingClassifier"
   ]
  },
  {
   "cell_type": "code",
   "execution_count": 166,
   "metadata": {},
   "outputs": [],
   "source": [
    "datasetPath = './SMILE Dataset/'\n",
    "\n",
    "dataset = read_csv(datasetPath + 'annotations.csv')\n",
    "\n",
    "array = dataset.values\n",
    "\n",
    "Y = array[:,1]\n",
    "\n",
    "Y = np.where(Y=='happy', 1, Y)\n",
    "Y = np.where(Y=='neutral', 0, Y)\n",
    "\n",
    "Y = Y.astype('int')"
   ]
  },
  {
   "cell_type": "code",
   "execution_count": 167,
   "metadata": {},
   "outputs": [],
   "source": [
    "# Get the names of the image files\n",
    "\n",
    "imageFiles = array[:,0]\n",
    "X = []\n",
    "\n",
    "# HOG\n",
    "for imageFile in imageFiles:\n",
    "    image = io.imread(datasetPath + '/' + imageFile)\n",
    "    fd = hog(image, orientations=10, pixels_per_cell=(16, 16), cells_per_block=(2, 2))\n",
    "    if len(X)==0:\n",
    "        X = fd\n",
    "    else:\n",
    "        X = np.vstack((X, fd))"
   ]
  },
  {
   "cell_type": "code",
   "execution_count": 168,
   "metadata": {},
   "outputs": [],
   "source": [
    "# Build models\n",
    "models = []\n",
    "\n",
    "models.append(('Decision Tree', DecisionTreeClassifier(criterion='gini', max_depth=10)))\n",
    "models.append(('Random Forest', RandomForestClassifier(criterion='entropy', n_estimators=50, max_depth=None)))\n",
    "models.append(('Logistic Regression', LogisticRegression(max_iter=200, C=2)))\n",
    "models.append(('SVM', SVC(C=2, kernel='poly', degree=3)))\n",
    "models.append(('AdaBoost', AdaBoostClassifier(n_estimators=10)))    \n",
    "models.append(('Extremely Randomized Trees', ExtraTreesClassifier(criterion='entropy',n_estimators=50, max_depth=None)))\n",
    "models.append(('K-Nearest Neighbors', KNeighborsClassifier(n_neighbors=6, weights='distance')))"
   ]
  },
  {
   "cell_type": "code",
   "execution_count": 169,
   "metadata": {},
   "outputs": [
    {
     "output_type": "stream",
     "name": "stdout",
     "text": [
      "For the Decision Tree model:\n",
      "\tF1 Score: 0.902606045860218\n",
      "\tPrecision: 0.9251243304339279\n",
      "\tRecall: 0.8850000000000001\n",
      "\tROC AUC: 0.905\n",
      "\n",
      "For the Random Forest model:\n",
      "\tF1 Score: 0.9500875076998312\n",
      "\tPrecision: 0.9465983139667349\n",
      "\tRecall: 0.9550000000000001\n",
      "\tROC AUC: 0.984375\n",
      "\n",
      "For the Logistic Regression model:\n",
      "\tF1 Score: 0.9671445499301725\n",
      "\tPrecision: 0.9761471861471861\n",
      "\tRecall: 0.96\n",
      "\tROC AUC: 0.9945\n",
      "\n",
      "For the SVM model:\n",
      "\tF1 Score: 0.9622691813962675\n",
      "\tPrecision: 0.9714285714285713\n",
      "\tRecall: 0.9550000000000001\n",
      "\tROC AUC: 0.9934999999999998\n",
      "\n",
      "For the AdaBoost model:\n",
      "\tF1 Score: 0.9427615003738238\n",
      "\tPrecision: 0.9420528594212805\n",
      "\tRecall: 0.945\n",
      "\tROC AUC: 0.9721973684210526\n",
      "\n",
      "For the Extremely Randomized Trees model:\n",
      "\tF1 Score: 0.9494549224844476\n",
      "\tPrecision: 0.9556641604010025\n",
      "\tRecall: 0.9450000000000001\n",
      "\tROC AUC: 0.9882302631578946\n",
      "\n",
      "For the K-Nearest Neighbors model:\n",
      "\tF1 Score: 0.9402718315234362\n",
      "\tPrecision: 0.9695938375350138\n",
      "\tRecall: 0.915\n",
      "\tROC AUC: 0.98325\n",
      "\n"
     ]
    }
   ],
   "source": [
    "kfold = StratifiedKFold(n_splits=10, shuffle=True, random_state=22)\n",
    "\n",
    "for name, model, in models:\n",
    "    scores = cross_validate(model, X, Y, cv=kfold, scoring=('f1', 'precision', 'recall', 'roc_auc'))\n",
    "    print('For the '+name+' model:')\n",
    "    print('\\tF1 Score: '+str(scores['test_f1'].mean()))\n",
    "    print('\\tPrecision: '+str(scores['test_precision'].mean()))\n",
    "    print('\\tRecall: '+str(scores['test_recall'].mean()))\n",
    "    print('\\tROC AUC: '+str(scores['test_roc_auc'].mean()))\n",
    "    print()"
   ]
  },
  {
   "cell_type": "code",
   "execution_count": 173,
   "metadata": {},
   "outputs": [
    {
     "output_type": "stream",
     "name": "stdout",
     "text": [
      "Stacking Scores:\n\tF1 Score: 0.9402718315234362\n\tPrecision: 0.9695938375350138\n\tRecall: 0.915\n\tROC AUC: 0.98325\n\n"
     ]
    }
   ],
   "source": [
    "# Stacking \n",
    "stacking = StackingClassifier(estimators=models, final_estimator=SVC())\n",
    "stacking_scores = cross_validate(stacking, X, Y, cv=kfold, scoring=('f1', 'precision', 'recall', 'roc_auc'))\n",
    "\n",
    "print('Stacking Scores:')\n",
    "print('\\tF1 Score: '+str(scores['test_f1'].mean()))\n",
    "print('\\tPrecision: '+str(scores['test_precision'].mean()))\n",
    "print('\\tRecall: '+str(scores['test_recall'].mean()))\n",
    "print('\\tROC AUC: '+str(scores['test_roc_auc'].mean()))\n",
    "print()"
   ]
  },
  {
   "cell_type": "code",
   "execution_count": null,
   "metadata": {},
   "outputs": [],
   "source": [
    "from sklearn.metrics import confusion_matrix, plot_confusion_matrix\n",
    "import matplotlib.pyplot as plt\n",
    "\n",
    "# for train_index, test_index in kfold.split(X, Y):\n",
    "#     print(\"TRAIN:\", train_index, \"TEST:\", test_index)\n",
    "#     X_train, X_test = X[train_index], X[test_index]\n",
    "#     Y_train, Y_test = Y[train_index], Y[test_index]\n",
    "\n",
    "split_kfold = kfold.split(X, Y)"
   ]
  }
 ]
}